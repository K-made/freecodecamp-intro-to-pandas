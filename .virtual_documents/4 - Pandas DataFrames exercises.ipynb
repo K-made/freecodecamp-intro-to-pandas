


# Import the numpy package under the name np
import numpy as np

# Import the pandas package under the name pd
import pandas as pd

# Import the matplotlib package under the name plt
import matplotlib.pyplot as plt
%matplotlib inline

# Print the pandas version and the configuration
print(pd.__version__)








# your code goes here
pd.DataFrame(
    data = [None],
    index = [None],
    columns = [None],
)


pd.DataFrame(data=[None],
             index=[None],
             columns=[None])








marvel_data = [
    ['Spider-Man', 'male', 1962],
    ['Captain America', 'male', 1941],
    ['Wolverine', 'male', 1974],
    ['Iron Man', 'male', 1963],
    ['Thor', 'male', 1963],
    ['Thing', 'male', 1961],
    ['Mister Fantastic', 'male', 1961],
    ['Hulk', 'male', 1962],
    ['Beast', 'male', 1963],
    ['Invisible Woman', 'female', 1961],
    ['Storm', 'female', 1975],
    ['Namor', 'male', 1939],
    ['Hawkeye', 'male', 1964],
    ['Daredevil', 'male', 1964],
    ['Doctor Strange', 'male', 1963],
    ['Hank Pym', 'male', 1962],
    ['Scarlet Witch', 'female', 1964],
    ['Wasp', 'female', 1963],
    ['Black Widow', 'female', 1964],
    ['Vision', 'male', 1968]
]


# your code goes here
marvel_df = pd.DataFrame(marvel_data)
marvel_df.head()


marvel_df = pd.DataFrame(data=marvel_data)

marvel_df





# your code goes here
col_names = ['Name', 'Gender', 'Year']
marvel_df.columns = col_names
marvel_df.head()


col_names = ['name', 'sex', 'first_appearance']

marvel_df.columns = col_names
marvel_df





# your code goes here
marvel_df.index = marvel_df['Name']
marvel_df.head()


marvel_df.index = marvel_df['name']
marvel_df





# your code goes here
marvel_df = marvel_df.drop(['Name'], axis=1)
marvel_df.head()


#marvel_df = marvel_df.drop(columns=['name'])
marvel_df = marvel_df.drop(['name'], axis=1)
marvel_df





# your code goes here
marvel_df = marvel_df.drop(['Namor','Hank Pym'], axis = 0)
marvel_df.head()


marvel_df = marvel_df.drop(['Namor', 'Hank Pym'], axis=0)
marvel_df








# your code goes here
marvel_df.head()


#marvel_df.loc[['Spider-Man', 'Captain America', 'Wolverine', 'Iron Man', 'Thor'], :] # bad!
#marvel_df.loc['Spider-Man': 'Thor', :]
#marvel_df.iloc[0:5, :]
#marvel_df.iloc[0:5,]
marvel_df.iloc[:5,]
#marvel_df.head()





# your code goes here
marvel_df.iloc[-5:]


#marvel_df.loc[['Hank Pym', 'Scarlet Witch', 'Wasp', 'Black Widow', 'Vision'], :] # bad!
#marvel_df.loc['Hank Pym':'Vision', :]
marvel_df.iloc[-5:,]
#marvel_df.tail()





# your code goes here
marvel_df.iloc[:5]['Gender'].to_frame()


#marvel_df.iloc[:5,]['sex'].to_frame()
marvel_df.iloc[:5,].sex.to_frame()
#marvel_df.head().sex.to_frame()





# your code goes here
marvel_df.iloc[1:-1]['Year'].to_frame()


marvel_df.iloc[1:-1,].Year.to_frame()





# your code goes here
marvel_df.iloc[[0, -1]]


#marvel_df.iloc[[0, -1],][['sex', 'first_appearance']]
marvel_df.iloc[[0, -1],]








# your code goes here
marvel_df.loc['Vision', 'Year'] = 1964
marvel_df.loc['Vision'].to_frame()


marvel_df.loc['Vision', 'first_appearance'] = 1964

marvel_df





# your code goes here
marvel_df['years_since'] = 2025 - marvel_df['Year']
marvel_df


marvel_df['years_since'] = 2018 - marvel_df['first_appearance']

marvel_df








# your code goes here
mask = marvel_df['Gender'] == 'female'

mask


mask = marvel_df['sex'] == 'female'

mask





# your code goes here
mask = marvel_df['Gender'] == 'male'

marvel_df[mask]


mask = marvel_df['sex'] == 'male'

marvel_df[mask]





# your code goes here
mask =marvel_df['Year'] > 1970
marvel_df[mask]


mask = marvel_df['first_appearance'] > 1970

marvel_df[mask]





# your code goes here
mask = (marvel_df['Gender'] == 'female') & (marvel_df['Year'] > 1970)
marvel_df[mask]


mask = (marvel_df['sex'] == 'female') & (marvel_df['first_appearance'] > 1970)

marvel_df[mask]








# your code goes here
marvel_df.describe()


marvel_df.describe()





# your code goes here
marvel_df['Year'].mean()



#np.mean(marvel_df.first_appearance)
marvel_df.first_appearance.mean()





# your code goes here
marvel_df['Year'].min()


#np.min(marvel_df.first_appearance)
marvel_df.first_appearance.min()





# your code goes here
min = marvel_df['Year'] == marvel_df['Year'].min()
marvel_df[min]


mask = marvel_df['first_appearance'] == marvel_df.first_appearance.min()
marvel_df[mask]








# your code goes here
marvel_df = marvel_df.reset_index()
marvel_df.head()


marvel_df = marvel_df.reset_index()

marvel_df





# your code goes here
marvel_df['Year'].plot()


#plt.plot(marvel_df.index, marvel_df.first_appearance)
marvel_df.first_appearance.plot()





# your code goes here
marvel_df['Year'].hist();



plt.hist(marvel_df.Year);





marvel_df.head()


marvel_df.index = marvel_df['name']
marvel_df = marvel_df.drop(['name'],axis = 1)
marvel_df.head()


marvel_df = marvel_df.rename(
    columns={
        'Gender': 'Sex',
        'Year': 'first_appearance',
        'Name': 'name'}
    , index = {
        'Spider-Man': 'Spidey',
        'Wolverine': 'Logan',
        'Iron Man': 'Tony Stalk',
        'Captain America': 'Cap'
    })


marvel_df.head()
