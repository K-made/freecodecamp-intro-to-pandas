


# Import the numpy package under the name np
import numpy as np

# Import the pandas package under the name pd
import pandas as pd

# Print the pandas version and the configuration
print(pd.__version__)








# your code goes here
pd.Series()


pd.Series()





# your code goes here
x = [1, 2, 3, 4, 5]
print(x, type(x))

y = pd.Series(x)
print(y, type(y))
pd.Series(x)


X = ['A','B','C']
print(X, type(X))

Y = pd.Series(X)
print(Y, type(Y)) # different type





# your code goes here
X = pd.Series(['A','B','C','D'])

X.name = 'My letters'
X


X = pd.Series(['A','B','C'])

X.name = 'My letters'
X





# your code goes here
X = pd.Series(['A','B','C','D'])

X.values


X = pd.Series(['A','B','C'])

X.values








# your code goes here
X = pd.Series(['E','F','G','H','I'])
X.index =['Fifth','Sixth','Seventh','Eighth','Ninth']
X


X = pd.Series(['A','B','C'])
index_names = ['first', 'second', 'third']

X.index = index_names
X





# your code goes here
X = pd.Series(['E', 'F', 'G', 'H', 'I'])
X.iloc[0]


X = pd.Series(['A','B','C'], index=['first', 'second', 'third'])

#X[0] # by position
#X.iloc[0] # by position
X['first'] # by index





# your code goes here
X = pd.Series(['E', 'F', 'G', 'H', 'I'])
X.iloc[-1]


X = pd.Series(['A','B','C'], index=['first', 'second', 'third'])

#X[-1] # by position
#X.iloc[-1] # by position
X['third'] # by index





# your code goes here
X = pd.Series(['E', 'F', 'G', 'H', 'I'], 
              index=['Fifth', 'Sixth', 'Seventh', 'Eighth', 'Ninth'])
X.iloc[1:-1]


X = pd.Series(['A', 'B', 'C', 'D', 'E'],
              index=['first', 'second', 'third', 'forth', 'fifth'])

#X[['second', 'third', 'forth']]
#X.iloc[1:-1] # by position
X[1:-1] # by position





# your code goes here
X = pd.Series(['E', 'F', 'G', 'H', 'I'], 
              index=['Fifth', 'Sixth', 'Seventh', 'Eighth', 'Ninth'])
X.iloc[::-1]


X = pd.Series(['A','B','C','D','E'],
              index=['first','second','third','forth','fifth'])

#X.iloc[::-1]
X[::-1]





# your code goes here
X = pd.Series(['E', 'F', 'G', 'H', 'I'], 
              index=['Fifth', 'Sixth', 'Seventh', 'Eighth', 'Ninth'])
X.iloc[[0, -1]]


X = pd.Series(['A','B','C','D','E'],
              index=['first','second','third','forth','fifth'])

#X[['first', 'fifth']]
#X.iloc[[0, -1]]
X[[0, -1]]








# your code goes here
X = pd.Series([5, 6, 7, 8, 9], 
              index=['Fifth', 'Sixth', 'Seventh', 'Eighth', 'Ninth'])
pd.Series(X, dtype=np.float64)


X = pd.Series([1,2,3,4,5],
              index=['first','second','third','forth','fifth'])

pd.Series(X, dtype=np.float)





# your code goes here
X = pd.Series([5, 6, 7, 8, 9], 
              index=['Fifth', 'Sixth', 'Seventh', 'Eighth', 'Ninth'])
X.iloc[::-1]


X = pd.Series([1,2,3,4,5],
              index=['first','second','third','forth','fifth'])

X[::-1]





# your code goes here
X = pd.Series([9, 8, 6, 7, 5], 
              index=['Ninth', 'Eighth', 'Sixth', 'Seventh', 'Fifth'])
X = X.sort_values()
X


X = pd.Series([4,2,5,1,3],
              index=['forth','second','fifth','first','third'])

X = X.sort_values()
X





# your code goes here
X = pd.Series([5, 6, 7, 8, 9], 
              index=['Fifth', 'Sixth', 'Seventh', 'Eighth', 'Ninth'])
X.iloc[4] = 10
X


X = pd.Series([1,2,3,4,5],
              index=['A','B','C','D','E'])

X[4] = 10
X





# your code goes here
X = pd.Series([5, 6, 7, 8, 9], 
              index=['Fifth', 'Sixth', 'Seventh', 'Eighth', 'Ninth'])
X.iloc[1:-1] = 0
X


X = pd.Series([1,2,3,4,5],
              index=['A','B','C','D','E'])

X[1:-1] = 0
X





# your code goes here
X = pd.Series([5, 6, 7, 8, 9], 
              index=['Fifth', 'Sixth', 'Seventh', 'Eighth', 'Ninth'])
X + 5


X = pd.Series([1,2,3,4,5])

X + 5








# your code goes here
X = pd.Series([5,2,3,4,-1,-9,-8,-1,0,-5,8])
mask = X <=0
mask


X = pd.Series([-1,2,0,-4,5,6,0,0,-9,10])

mask = X <= 0
mask





# your code goes here
X = pd.Series([5,2,3,4,-1,-9,-8,-1,0,-5,8])
mask = X < 0
X[mask]


X = pd.Series([-1,2,0,-4,5,6,0,0,-9,10])

mask = X <= 0
X[mask]





# your code goes here
X = pd.Series([5,2,3,4,-1,-9,6,-8,-1,0,-5,8])
mask = X > 5
X[mask]


X = pd.Series([-1,2,0,-4,5,6,0,0,-9,10])

mask = X > 5
X[mask]





# your code goes here
X = pd.Series([5,2,-3,4,-1,6,8,0,0,-5,8])
mask = X > X.mean()
X[mask]


X = pd.Series([-1,2,0,-4,5,6,0,0,-9,10])

mask = X > X.mean()
X[mask]





# your code goes here
X = pd.Series([5,2,3,4,-1,-9,6,-8,10,0,-5,8])
mask = (X == 2) | (X == 10)
X[mask]


X = pd.Series([-1,2,0,-4,5,6,0,0,-9,10])

mask = (X == 2) | (X == 10)
X[mask]








# your code goes here
X = pd.Series([5,2,3,4,-1,-9,6,-8,-1,0,-5,8])
X.all()


X = pd.Series([-1,2,0,-4,5,6,0,0,-9,10])

X.all()





# your code goes here
X = pd.Series([5,2,3,4,-1,-9,6,-8,-1,0,-5,8])
X.any()


X = pd.Series([-1,2,0,-4,5,6,0,0,-9,10])

X.any()








# your code goes here
X = pd.Series([11,22,33,44,55,66,77,88,99])
np.sum(X)


X = pd.Series([3,5,6,7,2,3,4,9,4])

#np.sum(X)
X.sum()





# your code goes here
X = pd.Series([11,22,33,44,55,66,77,88,99])
X.mean()


X = pd.Series([1,2,0,4,5,6,0,0,9,10])

#np.mean(X)
X.mean()





# your code goes here
X = pd.Series([11,22,33,44,55,66,77,88,99])
X.max()


X = pd.Series([1,2,0,4,5,6,0,0,9,10])

#np.max(X)
X.max()


X = pd.Series([11,22,33,44,55,66,77,88,99])
X.describe()



